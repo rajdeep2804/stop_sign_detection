{
 "cells": [
  {
   "cell_type": "code",
   "execution_count": 18,
   "id": "1049c5a7",
   "metadata": {},
   "outputs": [
    {
     "name": "stdout",
     "output_type": "stream",
     "text": [
      "       Width  Height  Roi.X1  Roi.Y1  Roi.X2  Roi.Y2  ClassId  \\\n",
      "0         27      26       5       5      22      20       20   \n",
      "1         28      27       5       6      23      22       20   \n",
      "2         29      26       6       5      24      21       20   \n",
      "3         28      27       5       6      23      22       20   \n",
      "4         28      26       5       5      23      21       20   \n",
      "...      ...     ...     ...     ...     ...     ...      ...   \n",
      "39204     52      56       5       6      47      51       42   \n",
      "39205     56      58       5       5      51      53       42   \n",
      "39206     58      62       5       6      53      57       42   \n",
      "39207     63      69       5       7      58      63       42   \n",
      "39208     68      69       7       6      62      63       42   \n",
      "\n",
      "                                 Path  \n",
      "0      Train/20/00020_00000_00000.png  \n",
      "1      Train/20/00020_00000_00001.png  \n",
      "2      Train/20/00020_00000_00002.png  \n",
      "3      Train/20/00020_00000_00003.png  \n",
      "4      Train/20/00020_00000_00004.png  \n",
      "...                               ...  \n",
      "39204  Train/42/00042_00007_00025.png  \n",
      "39205  Train/42/00042_00007_00026.png  \n",
      "39206  Train/42/00042_00007_00027.png  \n",
      "39207  Train/42/00042_00007_00028.png  \n",
      "39208  Train/42/00042_00007_00029.png  \n",
      "\n",
      "[39209 rows x 8 columns]\n"
     ]
    }
   ],
   "source": [
    "import os\n",
    "import pandas as pd\n",
    "import shutil\n",
    "CWD_PATH = os.getcwd()\n",
    "df1 = pd.read_csv(\"scripts/Train.csv\")\n",
    "print(df1)"
   ]
  },
  {
   "cell_type": "code",
   "execution_count": 20,
   "id": "020c6fa1",
   "metadata": {},
   "outputs": [],
   "source": [
    "#class_name = df1[\"class\"]\n",
    "image_name = df1[\"Path\"]\n",
    "class_number = df1[\"ClassId\"]\n",
    "w = df1[\"Width\"]\n",
    "h = df1[\"Height\"]\n",
    "x1 = df1[\"Roi.X1\"]\n",
    "y1 = df1[\"Roi.Y1\"]\n",
    "x2 = df1[\"Roi.X2\"]\n",
    "y2 = df1[\"Roi.Y2\"]"
   ]
  },
  {
   "cell_type": "code",
   "execution_count": 24,
   "id": "7a387814",
   "metadata": {},
   "outputs": [
    {
     "name": "stdout",
     "output_type": "stream",
     "text": [
      "780\n",
      "2220\n",
      "2250\n",
      "630\n",
      "                            filename           class class_id width height  \\\n",
      "0      Train/1/00001_00000_00000.png  speed_limit_20        2    56     57   \n",
      "1      Train/1/00001_00000_00001.png  speed_limit_20        2    55     57   \n",
      "2      Train/1/00001_00000_00002.png  speed_limit_20        2    56     56   \n",
      "3      Train/1/00001_00000_00003.png  speed_limit_20        2    58     58   \n",
      "4      Train/1/00001_00000_00004.png  speed_limit_20        2    59     59   \n",
      "...                              ...             ...      ...   ...    ...   \n",
      "5875  Train/15/00015_00020_00025.png            stop        4    62     63   \n",
      "5876  Train/15/00015_00020_00026.png            stop        4    68     70   \n",
      "5877  Train/15/00015_00020_00027.png            stop        4    73     74   \n",
      "5878  Train/15/00015_00020_00028.png            stop        4    84     86   \n",
      "5879  Train/15/00015_00020_00029.png            stop        4    94     99   \n",
      "\n",
      "     xmin ymin xmax ymax  \n",
      "0       6    5   51   52  \n",
      "1       5    6   50   52  \n",
      "2       5    6   51   51  \n",
      "3       6    6   53   52  \n",
      "4       6    6   54   53  \n",
      "...   ...  ...  ...  ...  \n",
      "5875    5    5   57   58  \n",
      "5876    6    7   62   64  \n",
      "5877    7    7   67   68  \n",
      "5878    7    7   77   79  \n",
      "5879    8    9   85   91  \n",
      "\n",
      "[5880 rows x 9 columns]\n"
     ]
    }
   ],
   "source": [
    "give_way_train = []\n",
    "speed_limit_20_train = []\n",
    "speed_limit_30_train = []\n",
    "stop_train = []\n",
    "df = pd.DataFrame(columns=['filename','class','class_id', 'width','height', 'xmin', 'ymin','xmax','ymax'])\n",
    "for i in range(len(class_name)):\n",
    "    if class_number[i] == 14:\n",
    "        df = df.append({'filename' : image_name[i] ,'class' : 'give_way','class_id' : 1, 'width' : w[i], 'height' : h[i], 'xmin' : x1[i],'ymin' : y1[i],'xmax' : x2[i] ,'ymax' : y2[i]},ignore_index=True)  \n",
    "        give_way_train.append(image_name[i])\n",
    "    elif class_number[i] == 1:\n",
    "        df = df.append({'filename' : image_name[i] ,'class' : 'speed_limit_20','class_id' : 2, 'width' : w[i], 'height' : h[i], 'xmin' : x1[i],'ymin' : y1[i],'xmax' : x2[i] ,'ymax' : y2[i]},ignore_index=True)  \n",
    "        stop_sign_train.append(image_name[i])\n",
    "        speed_limit_20_train.append(image_name[i])\n",
    "    elif class_number[i] == 2:\n",
    "        df = df.append({'filename' : image_name[i] ,'class' : 'speed_limit_30','class_id' : 3, 'width' : w[i], 'height' : h[i], 'xmin' : x1[i],'ymin' : y1[i],'xmax' : x2[i] ,'ymax' : y2[i]},ignore_index=True)  \n",
    "        #stop_sign_train.append(image_name[i])\n",
    "        speed_limit_30_train.append(image_name[i])\n",
    "    elif class_number[i] == 15:\n",
    "        df = df.append({'filename' : image_name[i] ,'class' : 'stop','class_id' : 4, 'width' : w[i], 'height' : h[i], 'xmin' : x1[i],'ymin' : y1[i],'xmax' : x2[i] ,'ymax' : y2[i]},ignore_index=True)  \n",
    "        #stop_sign_train.append(image_name[i])\n",
    "        stop_train.append(image_name[i])\n",
    "        #path2 = os.path.join(CWD_PATH,'gtsdb_data','images','Test',image_name[i])\n",
    "        #print(path2)\n",
    "        #im.save(os.path.join(CWD_PATH, 'ssd_mobilenet_v1_night_processed',path2))\n",
    "        #dest = shutil.copy(path2, os.path.join(CWD_PATH, 'gtsdb_data', 'stop_sign_images','stop_sign_test'))\n",
    "        #print('dest :',dest)\n",
    "print(len(give_way_train))\n",
    "print(len(speed_limit_20_train))\n",
    "print(len(speed_limit_30_train))\n",
    "print(len(stop_train))\n",
    "print(df)"
   ]
  },
  {
   "cell_type": "code",
   "execution_count": 9,
   "id": "fdff3635",
   "metadata": {},
   "outputs": [],
   "source": [
    "df.to_csv('gtsdb_data/3_class_train.csv')"
   ]
  },
  {
   "cell_type": "code",
   "execution_count": null,
   "id": "3cfa786e",
   "metadata": {},
   "outputs": [],
   "source": []
  }
 ],
 "metadata": {
  "kernelspec": {
   "display_name": "Python 3 (ipykernel)",
   "language": "python",
   "name": "python3"
  },
  "language_info": {
   "codemirror_mode": {
    "name": "ipython",
    "version": 3
   },
   "file_extension": ".py",
   "mimetype": "text/x-python",
   "name": "python",
   "nbconvert_exporter": "python",
   "pygments_lexer": "ipython3",
   "version": "3.8.10"
  }
 },
 "nbformat": 4,
 "nbformat_minor": 5
}
